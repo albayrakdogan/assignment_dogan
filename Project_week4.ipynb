{
 "cells": [
  {
   "cell_type": "markdown",
   "id": "c640bdff-4539-4d95-8570-26354d7f11ec",
   "metadata": {},
   "source": [
    "# My Jupyter Notebook on IBM Watson Studio"
   ]
  },
  {
   "cell_type": "markdown",
   "id": "cefe934d-ea61-4560-b9ec-c1880f1201af",
   "metadata": {},
   "source": [
    "**Doğan Albayrak**"
   ]
  },
  {
   "cell_type": "markdown",
   "id": "e1a28562-47e5-430d-bb18-d52674029f4d",
   "metadata": {},
   "source": [
    "Data Scientist"
   ]
  },
  {
   "cell_type": "markdown",
   "id": "6d4ed9f3-9292-48ca-bef4-0fe2fc8950d9",
   "metadata": {},
   "source": [
    "*I am interested in data science because that is future job and my personal interest*"
   ]
  },
  {
   "cell_type": "markdown",
   "id": "c006ca8a-f93e-476c-a3ad-73ac610f4bd6",
   "metadata": {},
   "source": [
    "### Basic Calculator"
   ]
  },
  {
   "cell_type": "code",
   "execution_count": 6,
   "id": "00c35ace-7b24-40d0-b33d-25ad796804d3",
   "metadata": {},
   "outputs": [
    {
     "data": {
      "text/plain": [
       "10"
      ]
     },
     "execution_count": 6,
     "metadata": {},
     "output_type": "execute_result"
    }
   ],
   "source": [
    "5+5"
   ]
  },
  {
   "cell_type": "markdown",
   "id": "51891e62-1f25-42fa-af66-e8525033b81c",
   "metadata": {},
   "source": [
    "This is very heavily <strong>emphasized</strong> <strong>text</strong>"
   ]
  },
  {
   "cell_type": "markdown",
   "id": "8aebdd5c-c49c-46ac-9cf1-be1b85269ab2",
   "metadata": {},
   "source": [
    ">[***Google*** Search](https://www.google.com)\n"
   ]
  },
  {
   "cell_type": "code",
   "execution_count": null,
   "id": "27024da5-fca2-4157-8109-bb52a0f70b95",
   "metadata": {},
   "outputs": [],
   "source": []
  }
 ],
 "metadata": {
  "kernelspec": {
   "display_name": "Python",
   "language": "python",
   "name": "conda-env-python-py"
  },
  "language_info": {
   "codemirror_mode": {
    "name": "ipython",
    "version": 3
   },
   "file_extension": ".py",
   "mimetype": "text/x-python",
   "name": "python",
   "nbconvert_exporter": "python",
   "pygments_lexer": "ipython3",
   "version": "3.7.12"
  }
 },
 "nbformat": 4,
 "nbformat_minor": 5
}
